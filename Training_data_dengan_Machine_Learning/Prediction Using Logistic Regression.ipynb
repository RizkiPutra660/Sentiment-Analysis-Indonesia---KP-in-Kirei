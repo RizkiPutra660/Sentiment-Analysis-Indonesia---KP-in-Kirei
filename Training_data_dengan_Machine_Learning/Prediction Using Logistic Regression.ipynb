{
 "cells": [
  {
   "cell_type": "code",
   "execution_count": 1,
   "metadata": {
    "scrolled": true
   },
   "outputs": [
    {
     "data": {
      "text/plain": [
       "Index(['label', 'text'], dtype='object')"
      ]
     },
     "execution_count": 1,
     "metadata": {},
     "output_type": "execute_result"
    }
   ],
   "source": [
    "import pandas as pd\n",
    "data = pd.read_csv('Tweets Indonesis.csv')\n",
    "data['text'] = data['text'].apply(str)\n",
    "data.columns"
   ]
  },
  {
   "cell_type": "code",
   "execution_count": 2,
   "metadata": {},
   "outputs": [
    {
     "name": "stdout",
     "output_type": "stream",
     "text": [
      "Number of rows per label:\n",
      " 1    11356\n",
      " 0     8315\n",
      "-1     7609\n",
      "Name: label, dtype: int64\n"
     ]
    },
    {
     "data": {
      "image/png": "[encoded data removed]",
      "text/plain": [
       "<Figure size 432x288 with 1 Axes>"
      ]
     },
     "metadata": {
      "needs_background": "light"
     },
     "output_type": "display_data"
    }
   ],
   "source": [
    "import matplotlib.pyplot as plt \n",
    "\n",
    "print(\"Number of rows per label:\")\n",
    "print(data['label'].value_counts())\n",
    "\n",
    "# Plotting the sentiment distribution\n",
    "plt.figure()\n",
    "pd.value_counts(data['label']).plot.bar(title=\"Sentiment distribution in data\")\n",
    "plt.xlabel(\"Sentiment\")\n",
    "plt.ylabel(\"No. of rows in data\")\n",
    "plt.show()"
   ]
  },
  {
   "cell_type": "code",
   "execution_count": 3,
   "metadata": {},
   "outputs": [
    {
     "name": "stdout",
     "output_type": "stream",
     "text": [
      "After segregating and taking equal number of rows for each sentiment:\n",
      "-1    7500\n",
      " 1    7500\n",
      " 0    7500\n",
      "Name: label, dtype: int64\n"
     ]
    },
    {
     "data": {
      "text/html": [
       "<div>\n",
       "<style scoped>\n",
       "    .dataframe tbody tr th:only-of-type {\n",
       "        vertical-align: middle;\n",
       "    }\n",
       "\n",
       "    .dataframe tbody tr th {\n",
       "        vertical-align: top;\n",
       "    }\n",
       "\n",
       "    .dataframe thead th {\n",
       "        text-align: right;\n",
       "    }\n",
       "</style>\n",
       "<table border=\"1\" class=\"dataframe\">\n",
       "  <thead>\n",
       "    <tr style=\"text-align: right;\">\n",
       "      <th></th>\n",
       "      <th>label</th>\n",
       "      <th>text</th>\n",
       "    </tr>\n",
       "  </thead>\n",
       "  <tbody>\n",
       "    <tr>\n",
       "      <th>0</th>\n",
       "      <td>1</td>\n",
       "      <td>suka banget cleanser cocok udah banget gonta g...</td>\n",
       "    </tr>\n",
       "    <tr>\n",
       "      <th>1</th>\n",
       "      <td>1</td>\n",
       "      <td>produk klaim makeup removal gak guna makeup re...</td>\n",
       "    </tr>\n",
       "    <tr>\n",
       "      <th>2</th>\n",
       "      <td>1</td>\n",
       "      <td>thanks god for this product produk udah cocok ...</td>\n",
       "    </tr>\n",
       "    <tr>\n",
       "      <th>3</th>\n",
       "      <td>1</td>\n",
       "      <td>another favorite product from cetaphil neng ba...</td>\n",
       "    </tr>\n",
       "    <tr>\n",
       "      <th>4</th>\n",
       "      <td>1</td>\n",
       "      <td>kaget cleanser busa biasa suka cleanser gentle...</td>\n",
       "    </tr>\n",
       "    <tr>\n",
       "      <th>5</th>\n",
       "      <td>1</td>\n",
       "      <td>so far cocok cetaphil purchase kali botol paka...</td>\n",
       "    </tr>\n",
       "    <tr>\n",
       "      <th>6</th>\n",
       "      <td>1</td>\n",
       "      <td>my hg cleanser kulit yg oily kering arah dehid...</td>\n",
       "    </tr>\n",
       "    <tr>\n",
       "      <th>7</th>\n",
       "      <td>1</td>\n",
       "      <td>setia cethapil clenaser wajah produk wajah ber...</td>\n",
       "    </tr>\n",
       "    <tr>\n",
       "      <th>8</th>\n",
       "      <td>1</td>\n",
       "      <td>really really love this cleanser kulit wajah s...</td>\n",
       "    </tr>\n",
       "    <tr>\n",
       "      <th>9</th>\n",
       "      <td>1</td>\n",
       "      <td>cetaphil bikin kulit sehat bgt gatel kering be...</td>\n",
       "    </tr>\n",
       "  </tbody>\n",
       "</table>\n",
       "</div>"
      ],
      "text/plain": [
       "   label                                               text\n",
       "0      1  suka banget cleanser cocok udah banget gonta g...\n",
       "1      1  produk klaim makeup removal gak guna makeup re...\n",
       "2      1  thanks god for this product produk udah cocok ...\n",
       "3      1  another favorite product from cetaphil neng ba...\n",
       "4      1  kaget cleanser busa biasa suka cleanser gentle...\n",
       "5      1  so far cocok cetaphil purchase kali botol paka...\n",
       "6      1  my hg cleanser kulit yg oily kering arah dehid...\n",
       "7      1  setia cethapil clenaser wajah produk wajah ber...\n",
       "8      1  really really love this cleanser kulit wajah s...\n",
       "9      1  cetaphil bikin kulit sehat bgt gatel kering be..."
      ]
     },
     "execution_count": 3,
     "metadata": {},
     "output_type": "execute_result"
    }
   ],
   "source": [
    "def get_data(top_n = 5000):\n",
    "    data_positive = data[data['label'] == 1].head(top_n)\n",
    "    data_negative = data[data['label'] == -1].head(top_n)\n",
    "    data_neutral= data[data['label'] == 0].head(top_n)\n",
    "    data_small = pd.concat([data_positive, data_negative, data_neutral])\n",
    "    return data_small\n",
    "\n",
    "# Function call to get the top 10000 from each sentiment\n",
    "data_small = get_data(top_n=7500)\n",
    "\n",
    "# After selecting top few samples of each sentiment\n",
    "print(\"After segregating and taking equal number of rows for each sentiment:\")\n",
    "print(data_small['label'].value_counts())\n",
    "data_small.head(10)"
   ]
  },
  {
   "cell_type": "code",
   "execution_count": 4,
   "metadata": {},
   "outputs": [
    {
     "name": "stdout",
     "output_type": "stream",
     "text": [
      "0    [suka, banget, cleanser, cocok, udah, banget, ...\n",
      "1    [produk, klaim, makeup, removal, gak, guna, ma...\n",
      "2    [thanks, god, for, this, product, produk, udah...\n",
      "3    [another, favorite, product, from, cetaphil, n...\n",
      "4    [kaget, cleanser, busa, biasa, suka, cleanser,...\n",
      "5    [so, far, cocok, cetaphil, purchase, kali, bot...\n",
      "6    [my, hg, cleanser, kulit, yg, oily, kering, ar...\n",
      "7    [setia, cethapil, clenaser, wajah, produk, waj...\n",
      "8    [really, really, love, this, cleanser, kulit, ...\n",
      "9    [cetaphil, bikin, kulit, sehat, bgt, gatel, ke...\n",
      "Name: tokenized_text, dtype: object\n"
     ]
    }
   ],
   "source": [
    "from gensim.utils import simple_preprocess\n",
    "# Tokenize the text column to get the new column 'tokenized_text'\n",
    "data_small['tokenized_text'] = [simple_preprocess(line, deacc=True) for line in data_small['text']] \n",
    "print(data_small['tokenized_text'].head(10))"
   ]
  },
  {
   "cell_type": "code",
   "execution_count": 5,
   "metadata": {},
   "outputs": [
    {
     "name": "stdout",
     "output_type": "stream",
     "text": [
      "Value counts for Train sentiments\n",
      " 1    5303\n",
      "-1    5235\n",
      " 0    5212\n",
      "Name: label, dtype: int64\n",
      "Value counts for Test sentiments\n",
      " 0    2288\n",
      "-1    2265\n",
      " 1    2197\n",
      "Name: label, dtype: int64\n",
      "<class 'pandas.core.frame.DataFrame'>\n",
      "<class 'pandas.core.series.Series'>\n",
      "   index                                               text  \\\n",
      "0   9499                                            gitu aq   \n",
      "1  21869                          laku banjir nampak bayang   \n",
      "2   8987               beneran nih ntar coba g o managernya   \n",
      "3   7899        banyak ugut terima panjang ugut tindak ugut   \n",
      "4  16132  bahas dosen hukum islam whoooooaaaaaa untung k...   \n",
      "\n",
      "                                      tokenized_text  \n",
      "0                                         [gitu, aq]  \n",
      "1                     [laku, banjir, nampak, bayang]  \n",
      "2             [beneran, nih, ntar, coba, managernya]  \n",
      "3  [banyak, ugut, terima, panjang, ugut, tindak, ...  \n",
      "4  [bahas, dosen, hukum, islam, whoooooaaaaaa, un...  \n"
     ]
    }
   ],
   "source": [
    "from sklearn.model_selection import train_test_split\n",
    "# Train Test Split Function\n",
    "def split_train_test(data_small, test_size=0.3, shuffle_state=True):\n",
    "    X_train, X_test, Y_train, Y_test = train_test_split(data_small[['text', 'tokenized_text']], \n",
    "                                                        data_small['label'], \n",
    "                                                        shuffle=shuffle_state,\n",
    "                                                        test_size=test_size, \n",
    "                                                        random_state=15)\n",
    "    print(\"Value counts for Train sentiments\")\n",
    "    print(Y_train.value_counts())\n",
    "    print(\"Value counts for Test sentiments\")\n",
    "    print(Y_test.value_counts())\n",
    "    print(type(X_train))\n",
    "    print(type(Y_train))\n",
    "    X_train = X_train.reset_index()\n",
    "    X_test = X_test.reset_index()\n",
    "    Y_train = Y_train.to_frame()\n",
    "    Y_train = Y_train.reset_index()\n",
    "    Y_test = Y_test.to_frame()\n",
    "    Y_test = Y_test.reset_index()\n",
    "    print(X_train.head())\n",
    "    return X_train, X_test, Y_train, Y_test\n",
    "\n",
    "# Call the train_test_split\n",
    "X_train, X_test, Y_train, Y_test = split_train_test(data_small)"
   ]
  },
  {
   "cell_type": "code",
   "execution_count": 6,
   "metadata": {},
   "outputs": [
    {
     "name": "stdout",
     "output_type": "stream",
     "text": [
      "Device available for running: \n",
      "cpu\n"
     ]
    }
   ],
   "source": [
    "import torch.nn as nn\n",
    "import torch.nn.functional as F\n",
    "import torch.optim as optim\n",
    "\n",
    "import torch\n",
    "# Use cuda if present\n",
    "device = torch.device(\"cuda\" if torch.cuda.is_available() else \"cpu\")\n",
    "print(\"Device available for running: \")\n",
    "print(device)"
   ]
  },
  {
   "cell_type": "code",
   "execution_count": 7,
   "metadata": {},
   "outputs": [
    {
     "name": "stdout",
     "output_type": "stream",
     "text": [
      "Dictionary without padding\n"
     ]
    }
   ],
   "source": [
    "from gensim import corpora\n",
    "# Function to return the dictionary either with padding word or without padding\n",
    "def make_dict(data_small, padding=True):\n",
    "    if padding:\n",
    "        print(\"Dictionary with padded token added\")\n",
    "        review_dict = corpora.Dictionary([['pad']])\n",
    "        review_dict.add_documents(data_small['tokenized_text'])\n",
    "    else:\n",
    "        print(\"Dictionary without padding\")\n",
    "        review_dict = corpora.Dictionary(data_small['tokenized_text'])\n",
    "    return review_dict\n",
    "\n",
    "# Make the dictionary without padding for the basic models\n",
    "review_dict = make_dict(data_small, padding=False)"
   ]
  },
  {
   "cell_type": "code",
   "execution_count": 8,
   "metadata": {},
   "outputs": [],
   "source": [
    "VOCAB_SIZE = len(review_dict)\n",
    "NUM_LABELS = 3\n",
    "\n",
    "# Function to make bow vector to be used as input to network\n",
    "def make_bow_vector(review_dict, sentence):\n",
    "    vec = torch.zeros(VOCAB_SIZE, dtype=torch.float64, device=device)\n",
    "    for word in sentence:\n",
    "        vec[review_dict.token2id[word]] += 1\n",
    "    return vec.view(1, -1).float()"
   ]
  },
  {
   "cell_type": "code",
   "execution_count": 9,
   "metadata": {},
   "outputs": [],
   "source": [
    "def make_target(label):\n",
    "    if label == -1:\n",
    "        return torch.tensor([0], dtype=torch.long, device=device)\n",
    "    elif label == 0:\n",
    "        return torch.tensor([1], dtype=torch.long, device=device)\n",
    "    else:\n",
    "        return torch.tensor([2], dtype=torch.long, device=device)"
   ]
  },
  {
   "cell_type": "code",
   "execution_count": 10,
   "metadata": {},
   "outputs": [
    {
     "name": "stdout",
     "output_type": "stream",
     "text": [
      "tensor([-0.6122, -1.0176, -1.4748,  0.3432,  0.4568])\n",
      "\n",
      "Probabilities : \n",
      "tensor([0.1316, 0.0877, 0.0555, 0.3420, 0.3832])\n",
      "tensor(1.0000)\n",
      "\n",
      "Log probabilities\n",
      "tensor([-2.0283, -2.4336, -2.8909, -1.0729, -0.9593])\n"
     ]
    }
   ],
   "source": [
    "data = torch.randn(5)\n",
    "print(data)\n",
    "print(\"\\nProbabilities : \")\n",
    "print(F.softmax(data, dim=0))\n",
    "print(F.softmax(data, dim=0).sum())  # Sums to 1 because it is a distribution!\n",
    "print(\"\\nLog probabilities\")\n",
    "print(F.log_softmax(data, dim=0)) "
   ]
  },
  {
   "cell_type": "code",
   "execution_count": 11,
   "metadata": {},
   "outputs": [],
   "source": [
    "# Defining neural network structure\n",
    "class BoWClassifier(nn.Module):  # inheriting from nn.Module!\n",
    "\n",
    "    def __init__(self, num_labels, vocab_size):\n",
    "        # needs to be done everytime in the nn.module derived class\n",
    "        super(BoWClassifier, self).__init__()\n",
    "\n",
    "        # Define the parameters that are needed for linear model ( Ax + b)\n",
    "        self.linear = nn.Linear(vocab_size, num_labels)\n",
    "\n",
    "        # NOTE! The non-linearity log softmax does not have parameters! So we don't need\n",
    "        # to worry about that here\n",
    "\n",
    "    def forward(self, bow_vec): # Defines the computation performed at every call.\n",
    "        # Pass the input through the linear layer,\n",
    "        # then pass that through log_softmax.\n",
    "\n",
    "        return F.log_softmax(self.linear(bow_vec), dim=1)"
   ]
  },
  {
   "cell_type": "code",
   "execution_count": 12,
   "metadata": {},
   "outputs": [],
   "source": [
    "#  Initialize the model\n",
    "bow_nn_model = BoWClassifier(NUM_LABELS, VOCAB_SIZE)\n",
    "bow_nn_model.to(device)\n",
    "\n",
    "# Loss Function\n",
    "loss_function = nn.NLLLoss()\n",
    "# Optimizer initlialization\n",
    "optimizer = optim.SGD(bow_nn_model.parameters(), lr=0.01)"
   ]
  },
  {
   "cell_type": "code",
   "execution_count": 13,
   "metadata": {},
   "outputs": [
    {
     "name": "stdout",
     "output_type": "stream",
     "text": [
      "Time taken to train the model: 232.2170045375824\n"
     ]
    }
   ],
   "source": [
    "import time\n",
    "start_time = time.time()\n",
    "\n",
    "# Train the model\n",
    "for epoch in range(10):\n",
    "    for index, row in X_train.iterrows():\n",
    "        # Step 1. Remember that PyTorch accumulates gradients.\n",
    "        # We need to clear them out before each instance\n",
    "        bow_nn_model.zero_grad()\n",
    "\n",
    "        # Step 2. Make BOW vector for input features and target label\n",
    "        bow_vec = make_bow_vector(review_dict, row['tokenized_text'])\n",
    "        target = make_target(Y_train['label'][index])\n",
    "\n",
    "        # Step 3. Run the forward pass.\n",
    "        probs = bow_nn_model(bow_vec)\n",
    "\n",
    "        # Step 4. Compute the loss, gradients, and update the parameters by\n",
    "        # calling optimizer.step()\n",
    "        loss = loss_function(probs, target)\n",
    "        loss.backward()\n",
    "        optimizer.step()\n",
    "print(\"Time taken to train the model: \" + str(time.time() - start_time))"
   ]
  },
  {
   "cell_type": "code",
   "execution_count": 16,
   "metadata": {},
   "outputs": [
    {
     "name": "stdout",
     "output_type": "stream",
     "text": [
      "              precision    recall  f1-score   support\n",
      "\n",
      "           0       0.68      0.67      0.67      2265\n",
      "           1       0.64      0.68      0.66      2288\n",
      "           2       0.69      0.65      0.67      2197\n",
      "\n",
      "    accuracy                           0.67      6750\n",
      "   macro avg       0.67      0.67      0.67      6750\n",
      "weighted avg       0.67      0.67      0.67      6750\n",
      "\n",
      "Time taken to predict: 2.853965997695923\n"
     ]
    }
   ],
   "source": [
    "import time\n",
    "from sklearn.metrics import classification_report\n",
    "bow_nn_predictions = []\n",
    "original_lables = []\n",
    "start_time = time.time()\n",
    "with torch.no_grad():\n",
    "    for index, row in X_test.iterrows():\n",
    "        bow_vec = make_bow_vector(review_dict, row['tokenized_text'])\n",
    "        probs = bow_nn_model(bow_vec)\n",
    "        bow_nn_predictions.append(torch.argmax(probs, dim=1).cpu().numpy()[0])\n",
    "        original_lables.append(make_target(Y_test['label'][index]).cpu().numpy()[0])\n",
    "print(classification_report(original_lables,bow_nn_predictions))\n",
    "print(\"Time taken to predict: \" + str(time.time() - start_time))"
   ]
  }
 ],
 "metadata": {
  "kernelspec": {
   "display_name": "Python 3",
   "language": "python",
   "name": "python3"
  },
  "language_info": {
   "codemirror_mode": {
    "name": "ipython",
    "version": 3
   },
   "file_extension": ".py",
   "mimetype": "text/x-python",
   "name": "python",
   "nbconvert_exporter": "python",
   "pygments_lexer": "ipython3",
   "version": "3.7.3"
  }
 },
 "nbformat": 4,
 "nbformat_minor": 2
}
